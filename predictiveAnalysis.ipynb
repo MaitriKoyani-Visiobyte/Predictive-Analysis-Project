{
 "cells": [
  {
   "cell_type": "code",
   "execution_count": 90,
   "metadata": {},
   "outputs": [
    {
     "name": "stdout",
     "output_type": "stream",
     "text": [
      "done\n"
     ]
    }
   ],
   "source": [
    "import pandas as pd\n",
    "import numpy as np\n",
    "import matplotlib.pyplot as plt\n",
    "from sklearn.preprocessing import LabelEncoder\n",
    "\n",
    "print('done')"
   ]
  },
  {
   "cell_type": "code",
   "execution_count": 9,
   "metadata": {},
   "outputs": [
    {
     "name": "stdout",
     "output_type": "stream",
     "text": [
      "<class 'pandas.core.frame.DataFrame'>\n",
      "RangeIndex: 20194 entries, 0 to 20193\n",
      "Data columns (total 13 columns):\n",
      " #   Column    Non-Null Count  Dtype  \n",
      "---  ------    --------------  -----  \n",
      " 0   SEQN      20194 non-null  int64  \n",
      " 1   RXDUSE    20194 non-null  int64  \n",
      " 2   RXDDRUG   14100 non-null  object \n",
      " 3   RXDDRGID  14016 non-null  object \n",
      " 4   RXQSEEN   14019 non-null  float64\n",
      " 5   RXDDAYS   14018 non-null  float64\n",
      " 6   RXDRSC1   14022 non-null  object \n",
      " 7   RXDRSC2   714 non-null    object \n",
      " 8   RXDRSC3   127 non-null    object \n",
      " 9   RXDRSD1   13633 non-null  object \n",
      " 10  RXDRSD2   714 non-null    object \n",
      " 11  RXDRSD3   127 non-null    object \n",
      " 12  RXDCOUNT  14100 non-null  float64\n",
      "dtypes: float64(3), int64(2), object(8)\n",
      "memory usage: 2.0+ MB\n",
      "None\n",
      "<class 'pandas.core.frame.DataFrame'>\n",
      "RangeIndex: 9813 entries, 0 to 9812\n",
      "Columns: 224 entries, SEQN to CSAEFFRT\n",
      "dtypes: float64(192), int64(3), object(29)\n",
      "memory usage: 16.8+ MB\n",
      "None\n",
      "<class 'pandas.core.frame.DataFrame'>\n",
      "RangeIndex: 10175 entries, 0 to 10174\n",
      "Data columns (total 47 columns):\n",
      " #   Column    Non-Null Count  Dtype  \n",
      "---  ------    --------------  -----  \n",
      " 0   SEQN      10175 non-null  int64  \n",
      " 1   SDDSRVYR  10175 non-null  int64  \n",
      " 2   RIDSTATR  10175 non-null  int64  \n",
      " 3   RIAGENDR  10175 non-null  int64  \n",
      " 4   RIDAGEYR  10175 non-null  int64  \n",
      " 5   RIDAGEMN  673 non-null    float64\n",
      " 6   RIDRETH1  10175 non-null  int64  \n",
      " 7   RIDRETH3  10175 non-null  int64  \n",
      " 8   RIDEXMON  9813 non-null   float64\n",
      " 9   RIDEXAGM  4213 non-null   float64\n",
      " 10  DMQMILIZ  6261 non-null   float64\n",
      " 11  DMQADFC   543 non-null    float64\n",
      " 12  DMDBORN4  10175 non-null  int64  \n",
      " 13  DMDCITZN  10171 non-null  float64\n",
      " 14  DMDYRSUS  1908 non-null   float64\n",
      " 15  DMDEDUC3  2803 non-null   float64\n",
      " 16  DMDEDUC2  5769 non-null   float64\n",
      " 17  DMDMARTL  5769 non-null   float64\n",
      " 18  RIDEXPRG  1309 non-null   float64\n",
      " 19  SIALANG   10175 non-null  int64  \n",
      " 20  SIAPROXY  10174 non-null  float64\n",
      " 21  SIAINTRP  10175 non-null  int64  \n",
      " 22  FIALANG   10054 non-null  float64\n",
      " 23  FIAPROXY  10054 non-null  float64\n",
      " 24  FIAINTRP  10054 non-null  float64\n",
      " 25  MIALANG   7311 non-null   float64\n",
      " 26  MIAPROXY  7312 non-null   float64\n",
      " 27  MIAINTRP  7313 non-null   float64\n",
      " 28  AIALANGA  6317 non-null   float64\n",
      " 29  DMDHHSIZ  10175 non-null  int64  \n",
      " 30  DMDFMSIZ  10175 non-null  int64  \n",
      " 31  DMDHHSZA  10175 non-null  int64  \n",
      " 32  DMDHHSZB  10175 non-null  int64  \n",
      " 33  DMDHHSZE  10175 non-null  int64  \n",
      " 34  DMDHRGND  10175 non-null  int64  \n",
      " 35  DMDHRAGE  10175 non-null  int64  \n",
      " 36  DMDHRBR4  9878 non-null   float64\n",
      " 37  DMDHREDU  9881 non-null   float64\n",
      " 38  DMDHRMAR  10052 non-null  float64\n",
      " 39  DMDHSEDU  5342 non-null   float64\n",
      " 40  WTINT2YR  10175 non-null  float64\n",
      " 41  WTMEC2YR  10175 non-null  float64\n",
      " 42  SDMVPSU   10175 non-null  int64  \n",
      " 43  SDMVSTRA  10175 non-null  int64  \n",
      " 44  INDHHIN2  10042 non-null  float64\n",
      " 45  INDFMIN2  10052 non-null  float64\n",
      " 46  INDFMPIR  9390 non-null   float64\n",
      "dtypes: float64(28), int64(19)\n",
      "memory usage: 3.6 MB\n",
      "None\n",
      "<class 'pandas.core.frame.DataFrame'>\n",
      "RangeIndex: 9813 entries, 0 to 9812\n",
      "Columns: 424 entries, SEQN to LBDB12SI\n",
      "dtypes: float64(423), int64(1)\n",
      "memory usage: 31.7 MB\n",
      "None\n",
      "<class 'pandas.core.frame.DataFrame'>\n",
      "RangeIndex: 10175 entries, 0 to 10174\n",
      "Columns: 953 entries, SEQN to WHQ520\n",
      "dtypes: float64(944), int64(7), object(2)\n",
      "memory usage: 74.0+ MB\n",
      "None\n",
      "<class 'pandas.core.frame.DataFrame'>\n",
      "RangeIndex: 9813 entries, 0 to 9812\n",
      "Columns: 168 entries, SEQN to DRD370V\n",
      "dtypes: float64(166), int64(2)\n",
      "memory usage: 12.6 MB\n",
      "None\n"
     ]
    }
   ],
   "source": [
    "medications_df = pd.read_csv(\"datasets/medications.csv\",encoding=\"ISO-8859-1\")\n",
    "examination_df = pd.read_csv(\"datasets/examination.csv\", encoding=\"ISO-8859-1\")\n",
    "demographic_df = pd.read_csv(\"datasets/demographic.csv\", encoding=\"ISO-8859-1\")\n",
    "labs_df = pd.read_csv(\"datasets/labs.csv\", encoding=\"ISO-8859-1\")\n",
    "questionnaire_df = pd.read_csv(\"datasets/questionnaire.csv\", encoding=\"ISO-8859-1\")\n",
    "diet_df = pd.read_csv(\"datasets/diet.csv\", encoding=\"ISO-8859-1\")\n",
    "\n",
    "# df_combined = pd.merge(medications_df, examination_df, on='SEQN', how='outer')\n",
    "# df_combined = pd.merge(df_combined, demographic_df, on='SEQN', how='outer')\n",
    "# df_combined = pd.merge(df_combined, labs_df, on='SEQN', how='outer')\n",
    "# df_combined = pd.merge(df_combined, questionnaire_df, on='SEQN', how='outer')\n",
    "# df_combined = pd.merge(df_combined, diet_df, on='SEQN', how='outer')\n",
    "\n",
    "\n",
    "\n",
    "print(medications_df.info())\n",
    "print(examination_df.info())\n",
    "print(demographic_df.info())\n",
    "print(labs_df.info())\n",
    "print(questionnaire_df.info())\n",
    "print(diet_df.info())\n",
    "\n",
    "\n"
   ]
  },
  {
   "cell_type": "code",
   "execution_count": 83,
   "metadata": {},
   "outputs": [],
   "source": [
    "\n",
    "# in madication take all\n",
    "\n",
    "#in examintions\n",
    "useful_columns = [\n",
    "    'SEQN',\n",
    "    'PEASCST1', 'BPXCHR', 'BPXPULS', 'BPXPTY', 'BMXBMI', 'BMXWT', 'BMXHT', \n",
    "    'BMXWAIST', 'CSXSMKOD', 'CSXEXCMT', 'CSQ260A', 'CSQ460', 'CSQ470', 'CSQ480','CSQ450',\n",
    "    'CSXEXSTS', 'CSXNAST', 'CSXSOAOD', 'BPXSY1', 'BPXDI1', 'BPAEN1', 'BPACSZ', 'BPAARM'\n",
    "]\n",
    "\n",
    "# Create a new DataFrame with the selected columns\n",
    "examination_df = examination_df[useful_columns]\n",
    "\n",
    "#in demographic\n",
    "useful_columns = [\n",
    "    'SEQN',\n",
    "    'RIAGENDR', 'RIDAGEYR', 'RIDAGEMN', 'RIDRETH1', 'RIDRETH3',\n",
    "    'DMDBORN4', 'DMDEDUC3', 'DMDEDUC2', 'DMDMARTL', 'RIDEXPRG', 'DMQMILIZ', 'DMQADFC',\n",
    "    'DMDHHSIZ', 'DMDHHSZA', 'DMDHHSZB', 'DMDHHSZE', 'DMDHRGND', 'DMDHRAGE', 'DMDHRBR4',\n",
    "    'DMDHSEDU', 'INDHHIN2', 'INDFMIN2', 'INDFMPIR',\n",
    "    'WTINT2YR', 'WTMEC2YR', 'SDMVPSU', 'SDMVSTRA', 'SIALANG', 'SIAPROXY', 'SIAINTRP',\n",
    "    'FIALANG', 'FIAPROXY', 'FIAINTRP', 'MIALANG', 'MIAPROXY', 'MIAINTRP', 'AIALANGA'\n",
    "]\n",
    "\n",
    "# Create a new DataFrame with the selected columns\n",
    "demographic_df = demographic_df[useful_columns]\n",
    "\n",
    "# in labs\n",
    "useful_columns = [\n",
    "    'SEQN',\n",
    "    'URXUMA', 'URXUMS', 'URXUCR.x', 'URXCRS', 'LBXAPB', 'LBDAPBSI', 'LBXSAL',\n",
    "    'LBDSALSI', 'LBXSAPSI', 'LBXSASSI', 'LBXSATSI', 'LBXSBU', 'LBDSBUSI', 'LBXHGB',\n",
    "    'LBXHCT', 'LBXMCVSI', 'LBXMCHSI', 'LBXPLTSI', 'LBXMPSI', 'LBXSCA', 'LBDSCASI',\n",
    "    'LBXSCH', 'PHQ020', 'PHACOFHR', 'PHACOFMN', 'GTDSCMMN', 'GTDDR1MN', 'GTXDRANK',\n",
    "    'URXUCR', 'URXUIO', 'URXUPB', 'URXUSB', 'LBXBPB', 'LBDBPBSI', 'LBDBPBLC', 'LBXTC',\n",
    "    'LBDTCSI', 'LBXEMA', 'LBXBMN', 'LBDBMNSI', 'LBDBMNLC', 'LBXHCR', 'LBXHCG', 'LBDHEG',\n",
    "    'URXUP8', 'URDUP8LC', 'URXNO3', 'URDNO3LC', 'LBXIN', 'LBDINSI'\n",
    "]\n",
    "\n",
    "# Create a new DataFrame with the selected columns\n",
    "labs_df = labs_df[useful_columns]\n",
    "\n",
    "#in questionnaire\n",
    "useful_columns = [\n",
    "    'SEQN',\n",
    "    'AUQ136',\n",
    "    'ALQ101', 'ALQ110', 'ALQ120Q', 'ALQ120U', 'ALQ130','ALQ151',\n",
    "    'CSQ010','CSQ040',\n",
    "    'HIQ031B', 'HIQ031C',\n",
    "    'BPQ020', 'BPQ030', 'BPD035', 'BPQ080', 'BPQ056','BPQ059',\n",
    "    'HSD010',\n",
    "    'HSQ500', 'HSQ520','HSQ571','HSAQUEX',\n",
    "    'DIQ010', 'DIQ050', 'DIQ080','DIQ175A','DIQ160',\n",
    "    'ACD011B', 'ACD011C', 'ACD040',\n",
    "    'CDQ001', 'CDQ005', 'CDQ008','CDQ009A','CDQ009H',\n",
    "    'CSQ140', 'CSQ200','CSQ202','CSQ250',\n",
    "    'CBD070', 'CBD090', 'CBD110','CBD130',\n",
    "    'CBQ611','CBQ550',\n",
    "    'DEQ034A', 'DEQ034C',\n",
    "    'DED120',\n",
    "    'DLQ010', 'DLQ020', \n",
    "    'DPQ010','DPQ100',\n",
    "    'DUQ200',\n",
    "    'ECD010',\n",
    "    'DBQ010','DBD030','DBQ073A','DBQ700',\n",
    "    'DBD900',\n",
    "    'FSD052','FSD041','FSDHH','FSDAD','FSD151',\n",
    "    'ECQ020', 'ECD070A', 'ECQ080',\n",
    "    'PFQ020', 'PFQ030', 'PFQ033','PFQ049','PFQ061A','PFQ061O','PFQ090',\n",
    "    'MCQ080E', 'MCQ160A', 'MCQ180A','MCQ010','MCQ070','MCQ080','MCQ230A','MCQ240AA','MCQ240L','MCQ370A','MCQ300A',\n",
    "    'OCD150','OCQ180','OCQ260','OCD270','OHQ030','OHQ770','OHQ780F','OHQ555G','OHQ565','OHQ580','OHQ620','OHQ870','OHQ900',\n",
    "    'OSQ010A','OSQ020A','OSD030AA','OSD030BA','OSD050BB','OSQ040BF','OSQ040BH','OSQ080','OSQ120C','OSD110G','OSQ090H','OSQ150','OSQ170',\n",
    "    'HEQ010','HEQ030',\n",
    "    'HIQ011','HIQ260','HIQ270',\n",
    "    'HOD050','HOQ065','HUQ010','HUQ041','HUQ051','HUD080',\n",
    "    'IMQ011','IMQ040','IMQ090',\n",
    "    'INQ020','INQ030',\n",
    "    'IND235','INDFMMPI',\n",
    "    'AGQ030',\n",
    "    'PAQ605','PAD615','PAQ635','PAQ670','PAQ650','PAQ724B','PAQ724I','PAQ724O','PAQ731','PAQ762',\n",
    "    'PAAQUEX','PUQ100',\n",
    "    'RHQ010','RHQ060','RHQ076','RHQ160','RHD180','RHQ200','RHQ542A','RHQ570','RXQ510','RXQ520','RXD530',\n",
    "    'SLQ050','SMQ020','SMQ040','SMD055','SMD650','SMD100BR','SMQ670','SMD460','SMQ858','SMQ870','SMAQUEX.x','SMQ710','SMQ690G','SMQ800','SMDANY',\n",
    "    'SXQ700','SXD171','SXQ636','SXQ260','SXQ270','SXQ294',\n",
    "    'WHD010','WHQ040','WHQ070',\n",
    "    'WHD080A','WHD080C','WHD110','WHD140','WHQ150','WHQ520'\n",
    "]\n",
    "\n",
    "# Create a new dataframe\n",
    "questionnaire_df = questionnaire_df[useful_columns]\n",
    "\n",
    "#in diet\n",
    "useful_columns = [\n",
    "    'SEQN',\n",
    "    'DR1TKCAL', 'DR1TPROT', 'DR1TCARB', 'DR1TSUGR', 'DR1TFIBE', 'DR1TTFAT', 'DR1TSFAT', \n",
    "    'DR1TMFAT', 'DR1TPFAT', 'DR1TCHOL', 'DR1TVB1', 'DR1TVB2', 'DR1TNIAC', 'DR1TVB6', \n",
    "    'DR1TVB12', 'DR1TVC', 'DR1TVD', 'DR1TVK', 'DR1TCALC', 'DR1TPHOS', 'DR1TMAGN', \n",
    "    'DR1TIRON', 'DR1TZINC', 'DR1TCOPP', 'DR1TSODI', 'DR1TPOTA', 'DR1TSELE', 'DR1DAY', \n",
    "    'DR1DBIH', 'DR1HELPD', 'DR1LANG', 'DRDINT'\n",
    "]\n",
    "\n",
    "# Create a new dataframe\n",
    "diet_df = diet_df[useful_columns]\n",
    "\n",
    "\n"
   ]
  },
  {
   "cell_type": "code",
   "execution_count": 84,
   "metadata": {},
   "outputs": [
    {
     "name": "stdout",
     "output_type": "stream",
     "text": [
      "<class 'pandas.core.frame.DataFrame'>\n",
      "RangeIndex: 20194 entries, 0 to 20193\n",
      "Columns: 337 entries, RXDUSE to AIALANGA\n",
      "dtypes: float64(309), int64(19), object(9)\n",
      "memory usage: 51.9+ MB\n",
      "None\n",
      "<class 'pandas.core.frame.DataFrame'>\n"
     ]
    }
   ],
   "source": [
    "# merge all dataframes\n",
    "df = pd.merge(medications_df, examination_df, on='SEQN', how='outer')\n",
    "df = pd.merge(df, labs_df, on='SEQN', how='outer')\n",
    "df = pd.merge(df, questionnaire_df, on='SEQN', how='outer')\n",
    "df = pd.merge(df, diet_df, on='SEQN', how='outer')\n",
    "df = pd.merge(df, demographic_df, on='SEQN', how='outer')\n",
    "\n",
    "# drop SEQN column\n",
    "df = df.drop('SEQN', axis=1)\n",
    "print(df.info())\n",
    "print(type(df))"
   ]
  },
  {
   "cell_type": "code",
   "execution_count": 85,
   "metadata": {},
   "outputs": [
    {
     "name": "stdout",
     "output_type": "stream",
     "text": [
      "<class 'pandas.core.frame.DataFrame'>\n",
      "RangeIndex: 20194 entries, 0 to 20193\n",
      "Columns: 337 entries, RXDUSE to AIALANGA\n",
      "dtypes: float64(309), int64(19), object(9)\n",
      "memory usage: 51.9+ MB\n",
      "None\n"
     ]
    },
    {
     "name": "stderr",
     "output_type": "stream",
     "text": [
      "C:\\Users\\Asus\\AppData\\Local\\Temp\\ipykernel_15316\\225119423.py:5: FutureWarning: A value is trying to be set on a copy of a DataFrame or Series through chained assignment using an inplace method.\n",
      "The behavior will change in pandas 3.0. This inplace method will never work because the intermediate object on which we are setting values always behaves as a copy.\n",
      "\n",
      "For example, when doing 'df[col].method(value, inplace=True)', try using 'df.method({col: value}, inplace=True)' or df[col] = df[col].method(value) instead, to perform the operation inplace on the original object.\n",
      "\n",
      "\n",
      "  df[column].fillna(df[column].mean(), inplace=True)\n",
      "C:\\Users\\Asus\\AppData\\Local\\Temp\\ipykernel_15316\\225119423.py:7: FutureWarning: A value is trying to be set on a copy of a DataFrame or Series through chained assignment using an inplace method.\n",
      "The behavior will change in pandas 3.0. This inplace method will never work because the intermediate object on which we are setting values always behaves as a copy.\n",
      "\n",
      "For example, when doing 'df[col].method(value, inplace=True)', try using 'df.method({col: value}, inplace=True)' or df[col] = df[col].method(value) instead, to perform the operation inplace on the original object.\n",
      "\n",
      "\n",
      "  df[column].fillna(df[column].mode()[0], inplace=True)\n"
     ]
    }
   ],
   "source": [
    "# Cleaning data\n",
    "for column in df.columns:\n",
    "    \n",
    "    if df[column].dtype in ['float64', 'int64']:  \n",
    "        df[column].fillna(df[column].mean(), inplace=True)  \n",
    "    else:\n",
    "        df[column].fillna(df[column].mode()[0], inplace=True)  \n",
    "\n",
    "print(df.info())\n"
   ]
  },
  {
   "cell_type": "code",
   "execution_count": 86,
   "metadata": {},
   "outputs": [
    {
     "name": "stdout",
     "output_type": "stream",
     "text": [
      "<class 'pandas.core.frame.DataFrame'>\n",
      "RangeIndex: 20194 entries, 0 to 20193\n",
      "Columns: 337 entries, RXDUSE to AIALANGA\n",
      "dtypes: float64(309), int64(19), object(9)\n",
      "memory usage: 51.9+ MB\n",
      "None\n",
      "RXDUSE      0\n",
      "RXDDRUG     0\n",
      "RXDDRGID    0\n",
      "RXQSEEN     0\n",
      "RXDDAYS     0\n",
      "           ..\n",
      "FIAINTRP    0\n",
      "MIALANG     0\n",
      "MIAPROXY    0\n",
      "MIAINTRP    0\n",
      "AIALANGA    0\n",
      "Length: 337, dtype: int64\n"
     ]
    }
   ],
   "source": [
    "print(df.info())\n",
    "print(df.isnull().sum())"
   ]
  },
  {
   "cell_type": "code",
   "execution_count": 87,
   "metadata": {},
   "outputs": [
    {
     "name": "stdout",
     "output_type": "stream",
     "text": [
      "<class 'pandas.core.frame.DataFrame'>\n",
      "RangeIndex: 20194 entries, 0 to 20193\n",
      "Columns: 337 entries, RXDUSE to AIALANGA\n",
      "dtypes: float64(309), int64(19), object(9)\n",
      "memory usage: 51.9+ MB\n",
      "None\n",
      "<class 'pandas.core.frame.DataFrame'>\n",
      "RangeIndex: 20194 entries, 0 to 20193\n",
      "Columns: 337 entries, RXDUSE to AIALANGA\n",
      "dtypes: float64(309), int64(28)\n",
      "memory usage: 51.9 MB\n",
      "None\n"
     ]
    }
   ],
   "source": [
    "\n",
    "# Get all object columns\n",
    "print(df.info())\n",
    "object_columns = df.select_dtypes(include=['object']).columns\n",
    "def hashing_encoder(col, num_buckets=10):\n",
    "    return col.apply(lambda x: hash(x) % num_buckets)\n",
    "# Apply hashing to each categorical column\n",
    "num_buckets = 141  # Adjust the number of buckets as needed\n",
    "for col in object_columns:\n",
    "    df[col] = hashing_encoder(df[col], num_buckets)\n",
    "\n",
    "print(df.info())"
   ]
  },
  {
   "cell_type": "code",
   "execution_count": 92,
   "metadata": {},
   "outputs": [
    {
     "name": "stdout",
     "output_type": "stream",
     "text": [
      "   RXDUSE  RXDDRUG  RXDDRGID   RXQSEEN      RXDDAYS  RXDRSC1  RXDRSC2  \\\n",
      "0       1       27        26  1.165276  3917.636039      125       74   \n",
      "1       1       70         3  2.000000  1460.000000      111       74   \n",
      "2       1       39        86  1.000000   243.000000       76       74   \n",
      "3       1       17       103  1.000000   365.000000      111       74   \n",
      "4       1       21        69  1.000000    14.000000       65       74   \n",
      "\n",
      "   RXDRSC3  RXDRSD1  RXDRSD2  ...  SIALANG  SIAPROXY  SIAINTRP  FIALANG  \\\n",
      "0       76       12       87  ...        1       2.0         2      1.0   \n",
      "1       76       91       87  ...        1       2.0         2      1.0   \n",
      "2       76       26       87  ...        1       2.0         2      1.0   \n",
      "3       76       91       87  ...        1       2.0         2      1.0   \n",
      "4       76        0       87  ...        1       2.0         2      1.0   \n",
      "\n",
      "   FIAPROXY  FIAINTRP  MIALANG  MIAPROXY  MIAINTRP  AIALANGA  \n",
      "0       2.0       2.0      1.0       2.0       2.0       1.0  \n",
      "1       2.0       2.0      1.0       2.0       2.0       1.0  \n",
      "2       2.0       2.0      1.0       2.0       2.0       1.0  \n",
      "3       2.0       2.0      1.0       2.0       2.0       1.0  \n",
      "4       2.0       2.0      1.0       2.0       2.0       1.0  \n",
      "\n",
      "[5 rows x 337 columns]\n"
     ]
    }
   ],
   "source": [
    "print(df.head(5))"
   ]
  },
  {
   "cell_type": "code",
   "execution_count": 99,
   "metadata": {},
   "outputs": [
    {
     "data": {
      "image/png": "[encoded data removed]",
      "text/plain": [
       "<Figure size 640x480 with 4 Axes>"
      ]
     },
     "metadata": {},
     "output_type": "display_data"
    }
   ],
   "source": [
    "# RIDAGEYR is age in year , PEASCST1 id blood pressure , DR1TSUGR is sugar, ALQ101 is alcohol \n",
    "cols = ['ALQ101','RIDAGEYR','PEASCST1','DR1TSUGR']\n",
    "\n",
    "fig, ax = plt.subplots(2, 2)\n",
    "for i, col in enumerate(cols):\n",
    "    ax[i//2, i%2].hist(df[col])\n",
    "    ax[i//2, i%2].set_title(col)\n",
    "    ax[i//2, i%2].set_ylabel(\"Num of Patients\")\n",
    "plt.tight_layout()"
   ]
  },
  {
   "cell_type": "code",
   "execution_count": 28,
   "metadata": {},
   "outputs": [],
   "source": [
    "\n"
   ]
  },
  {
   "cell_type": "code",
   "execution_count": 29,
   "metadata": {},
   "outputs": [
    {
     "name": "stdout",
     "output_type": "stream",
     "text": [
      "<class 'pandas.core.frame.DataFrame'>\n",
      "RangeIndex: 20194 entries, 0 to 20193\n",
      "Columns: 2044 entries, SEQN to RXDRSD3_Wheezing\n",
      "dtypes: bool(2038), float64(3), int64(3)\n",
      "memory usage: 40.2 MB\n",
      "None\n"
     ]
    }
   ],
   "source": [
    "\n"
   ]
  }
 ],
 "metadata": {
  "kernelspec": {
   "display_name": "venv",
   "language": "python",
   "name": "python3"
  },
  "language_info": {
   "codemirror_mode": {
    "name": "ipython",
    "version": 3
   },
   "file_extension": ".py",
   "mimetype": "text/x-python",
   "name": "python",
   "nbconvert_exporter": "python",
   "pygments_lexer": "ipython3",
   "version": "3.11.0"
  }
 },
 "nbformat": 4,
 "nbformat_minor": 2
}
