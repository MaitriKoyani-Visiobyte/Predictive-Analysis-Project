{
 "cells": [
  {
   "cell_type": "code",
   "execution_count": 2,
   "metadata": {},
   "outputs": [
    {
     "name": "stdout",
     "output_type": "stream",
     "text": [
      "done\n"
     ]
    }
   ],
   "source": [
    "import pandas as pd\n",
    "import numpy as np\n",
    "\n",
    "print('done')"
   ]
  },
  {
   "cell_type": "code",
   "execution_count": null,
   "metadata": {},
   "outputs": [],
   "source": [
    "medications_df = pd.read_csv(\"datasets/medications.csv\",encoding=\"ISO-8859-1\")\n",
    "examination_df = pd.read_csv(\"datasets/examination.csv\", encoding=\"ISO-8859-1\")\n",
    "demographic_df = pd.read_csv(\"datasets/demographic.csv\", encoding=\"ISO-8859-1\")\n",
    "labs_df = pd.read_csv(\"datasets/labs.csv\", encoding=\"ISO-8859-1\")\n",
    "questionnaire_df = pd.read_csv(\"datasets/questionnaire.csv\", encoding=\"ISO-8859-1\")\n",
    "diet_df = pd.read_csv(\"datasets/diet.csv\", encoding=\"ISO-8859-1\")\n",
    "\n",
    "print(labs_df.head(10)) \n",
    "\n"
   ]
  },
  {
   "cell_type": "code",
   "execution_count": 14,
   "metadata": {},
   "outputs": [
    {
     "name": "stdout",
     "output_type": "stream",
     "text": [
      "    SEQN  RXDUSE           RXDDRUG RXDDRGID   RXQSEEN      RXDDAYS RXDRSC1  \\\n",
      "0  73557       1             99999      NaN  1.165276  3917.636039     NaN   \n",
      "1  73557       1           INSULIN   d00262  2.000000  1460.000000     E11   \n",
      "2  73558       1        GABAPENTIN   d03182  1.000000   243.000000  G25.81   \n",
      "3  73558       1  INSULIN GLARGINE   d04538  1.000000   365.000000     E11   \n",
      "4  73558       1        OLMESARTAN   d04801  1.000000    14.000000   E11.2   \n",
      "5  73558       1       SIMVASTATIN   d00746  1.000000    61.000000   E78.0   \n",
      "6  73559       1    INSULIN ASPART   d04697  1.000000   365.000000     E11   \n",
      "7  73559       1  INSULIN GLARGINE   d04538  1.000000  4380.000000     E11   \n",
      "8  73559       1      PANCRELIPASE   d01002  1.000000   365.000000   K86.9   \n",
      "9  73559       1       SIMVASTATIN   d00746  1.000000  2920.000000   E78.0   \n",
      "\n",
      "  RXDRSC2 RXDRSC3                                            RXDRSD1 RXDRSD2  \\\n",
      "0     NaN     NaN                                                NaN     NaN   \n",
      "1     NaN     NaN                           Type 2 diabetes mellitus     NaN   \n",
      "2     NaN     NaN                             Restless legs syndrome     NaN   \n",
      "3     NaN     NaN                           Type 2 diabetes mellitus     NaN   \n",
      "4     NaN     NaN  Type 2 diabetes mellitus with kidney complicat...     NaN   \n",
      "5     NaN     NaN                          Pure hypercholesterolemia     NaN   \n",
      "6     NaN     NaN                           Type 2 diabetes mellitus     NaN   \n",
      "7     NaN     NaN                           Type 2 diabetes mellitus     NaN   \n",
      "8     NaN     NaN                   Disease of pancreas, unspecified     NaN   \n",
      "9     NaN     NaN                          Pure hypercholesterolemia     NaN   \n",
      "\n",
      "  RXDRSD3  RXDCOUNT  \n",
      "0     NaN       2.0  \n",
      "1     NaN       2.0  \n",
      "2     NaN       4.0  \n",
      "3     NaN       4.0  \n",
      "4     NaN       4.0  \n",
      "5     NaN       4.0  \n",
      "6     NaN       5.0  \n",
      "7     NaN       5.0  \n",
      "8     NaN       5.0  \n",
      "9     NaN       5.0  \n"
     ]
    }
   ],
   "source": [
    "\n",
    "# print('info',medications_df.info())\n",
    "# print(medications_df.isnull().sum())\n",
    "print(medications_df.head(10)) \n"
   ]
  },
  {
   "cell_type": "code",
   "execution_count": 23,
   "metadata": {},
   "outputs": [
    {
     "name": "stdout",
     "output_type": "stream",
     "text": [
      "    SEQN         WTDRD1         WTDR2D  DR1DRSTZ  DR1EXMER  DRABF  DRDINT  \\\n",
      "0  73557   16888.327864   12930.890649         1      49.0    2.0     2.0   \n",
      "1  73558   17932.143865   12684.148869         1      59.0    2.0     2.0   \n",
      "2  73559   59641.812930   39394.236709         1      49.0    2.0     2.0   \n",
      "3  73560  142203.069917  125966.366442         1      54.0    2.0     2.0   \n",
      "4  73561   59052.357033   39004.892993         1      63.0    2.0     2.0   \n",
      "5  73562   49890.828664       0.000000         1      49.0    2.0     1.0   \n",
      "6  73563   31417.217097   40735.782424         4      54.0    1.0     2.0   \n",
      "7  73564   78988.755072   52173.157754         1      54.0    2.0     2.0   \n",
      "8  73566   30697.880780       0.000000         1      49.0    2.0     1.0   \n",
      "9  73567   44503.036020       0.000000         1      61.0    2.0     1.0   \n",
      "\n",
      "   DR1DBIH  DR1DAY  DR1LANG  ...  DRD370QQ   DRD370R  DRD370RQ   DRD370S  \\\n",
      "0      6.0     2.0      1.0  ...  1.557377  1.966608  1.766082  1.994728   \n",
      "1      4.0     1.0      1.0  ...  1.557377  2.000000  1.766082  2.000000   \n",
      "2     18.0     6.0      1.0  ...  1.557377  1.966608  1.766082  1.994728   \n",
      "3     21.0     3.0      1.0  ...  1.557377  1.966608  1.766082  1.994728   \n",
      "4     18.0     1.0      1.0  ...  1.557377  2.000000  1.766082  2.000000   \n",
      "5     11.0     3.0      1.0  ...  1.557377  2.000000  1.766082  2.000000   \n",
      "6      2.0     3.0      1.0  ...  1.557377  1.966608  1.766082  1.994728   \n",
      "7     12.0     7.0      1.0  ...  1.557377  2.000000  1.766082  2.000000   \n",
      "8      3.0     2.0      1.0  ...  1.557377  2.000000  1.766082  2.000000   \n",
      "9     16.0     7.0      1.0  ...  1.557377  2.000000  1.766082  2.000000   \n",
      "\n",
      "   DRD370SQ   DRD370T  DRD370TQ   DRD370U  DRD370UQ  DRD370V  \n",
      "0  2.481481  1.742628  2.622155  1.938098  2.400631      2.0  \n",
      "1  2.481481  2.000000  2.622155  2.000000  2.400631      2.0  \n",
      "2  2.481481  1.742628  2.622155  1.938098  2.400631      2.0  \n",
      "3  2.481481  1.742628  2.622155  1.938098  2.400631      2.0  \n",
      "4  2.481481  2.000000  2.622155  2.000000  2.400631      2.0  \n",
      "5  2.481481  2.000000  2.622155  2.000000  2.400631      2.0  \n",
      "6  2.481481  1.742628  2.622155  1.938098  2.400631      2.0  \n",
      "7  2.481481  2.000000  2.622155  2.000000  2.400631      2.0  \n",
      "8  2.481481  2.000000  2.622155  2.000000  2.400631      2.0  \n",
      "9  2.481481  2.000000  2.622155  2.000000  2.400631      2.0  \n",
      "\n",
      "[10 rows x 168 columns]\n"
     ]
    }
   ],
   "source": [
    "# print('info',medications_df.info())\n",
    "# print(medications_df.isnull().sum())\n",
    "# print(medications_df.head(10)) \n",
    "# print(examination_df.head(10)) \n",
    "# print(labs_df.head(10)) \n",
    "# print(demographic_df.head(10)) \n",
    "# print(questionnaire_df.head(10)) \n",
    "print(diet_df.head(10))\n"
   ]
  },
  {
   "cell_type": "code",
   "execution_count": 19,
   "metadata": {},
   "outputs": [
    {
     "name": "stderr",
     "output_type": "stream",
     "text": [
      "C:\\Users\\Asus\\AppData\\Local\\Temp\\ipykernel_3008\\457153646.py:5: FutureWarning: A value is trying to be set on a copy of a DataFrame or Series through chained assignment using an inplace method.\n",
      "The behavior will change in pandas 3.0. This inplace method will never work because the intermediate object on which we are setting values always behaves as a copy.\n",
      "\n",
      "For example, when doing 'df[col].method(value, inplace=True)', try using 'df.method({col: value}, inplace=True)' or df[col] = df[col].method(value) instead, to perform the operation inplace on the original object.\n",
      "\n",
      "\n",
      "  df[column].fillna(df[column].mean(), inplace=True)\n",
      "C:\\Users\\Asus\\AppData\\Local\\Temp\\ipykernel_3008\\457153646.py:7: FutureWarning: A value is trying to be set on a copy of a DataFrame or Series through chained assignment using an inplace method.\n",
      "The behavior will change in pandas 3.0. This inplace method will never work because the intermediate object on which we are setting values always behaves as a copy.\n",
      "\n",
      "For example, when doing 'df[col].method(value, inplace=True)', try using 'df.method({col: value}, inplace=True)' or df[col] = df[col].method(value) instead, to perform the operation inplace on the original object.\n",
      "\n",
      "\n",
      "  df[column].fillna(df[column].mode()[0], inplace=True)\n"
     ]
    }
   ],
   "source": [
    "list = [medications_df,examination_df,demographic_df,labs_df,questionnaire_df,diet_df]\n",
    "for df in list:\n",
    "    for column in df.columns:\n",
    "        if df[column].dtype in ['float64', 'int64']:\n",
    "            df[column].fillna(df[column].mean(), inplace=True)\n",
    "        else:\n",
    "            df[column].fillna(df[column].mode()[0], inplace=True)\n"
   ]
  },
  {
   "cell_type": "code",
   "execution_count": null,
   "metadata": {},
   "outputs": [],
   "source": [
    "# print(medications_df.head(10)) \n",
    "# print(examination_df.head(10)) \n",
    "# print(labs_df.head(10)) \n",
    "# print(demographic_df.head(10)) \n",
    "# print(questionnaire_df.head(10)) \n",
    "print(diet_df.head(10)) \n",
    "\n"
   ]
  },
  {
   "cell_type": "code",
   "execution_count": 24,
   "metadata": {},
   "outputs": [
    {
     "name": "stdout",
     "output_type": "stream",
     "text": [
      "SEQN        0\n",
      "RXDUSE      0\n",
      "RXDDRUG     0\n",
      "RXDDRGID    0\n",
      "RXQSEEN     0\n",
      "RXDDAYS     0\n",
      "RXDRSC1     0\n",
      "RXDRSC2     0\n",
      "RXDRSC3     0\n",
      "RXDRSD1     0\n",
      "RXDRSD2     0\n",
      "RXDRSD3     0\n",
      "RXDCOUNT    0\n",
      "dtype: int64\n"
     ]
    }
   ],
   "source": [
    "print(medications_df.isnull().sum()) \n"
   ]
  }
 ],
 "metadata": {
  "kernelspec": {
   "display_name": "venv",
   "language": "python",
   "name": "python3"
  },
  "language_info": {
   "codemirror_mode": {
    "name": "ipython",
    "version": 3
   },
   "file_extension": ".py",
   "mimetype": "text/x-python",
   "name": "python",
   "nbconvert_exporter": "python",
   "pygments_lexer": "ipython3",
   "version": "3.11.0"
  }
 },
 "nbformat": 4,
 "nbformat_minor": 2
}
